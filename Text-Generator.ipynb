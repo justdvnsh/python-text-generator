{
 "cells": [
  {
   "cell_type": "code",
   "execution_count": 1,
   "metadata": {},
   "outputs": [
    {
     "name": "stdout",
     "output_type": "stream",
     "text": [
      "What letter do you want ? Enter c for consonants, v for vowels and t for random text  c\n",
      "What letter do you want ? Enter c for consonants, v for vowels and t for random text  v\n",
      "What letter do you want ? Enter c for consonants, v for vowels and t for random text  t\n",
      "yil\n",
      "diz\n",
      "sey\n",
      "juh\n",
      "kaq\n",
      "fox\n",
      "yop\n",
      "kej\n",
      "dem\n",
      "tuh\n",
      "yub\n",
      "jeq\n",
      "doe\n",
      "xom\n",
      "zew\n",
      "bor\n",
      "xoe\n",
      "zuo\n",
      "zoo\n",
      "gij\n"
     ]
    }
   ],
   "source": [
    "import random\n",
    "\n",
    "consonants = 'bcdfghjklmnpqrstvwxyz'\n",
    "vowels = 'aeiou'\n",
    "text = vowels + consonants \n",
    "\n",
    "user_input_one = input('What letter do you want ? Enter c for consonants, v for vowels and t for random text  ')\n",
    "\n",
    "\n",
    "user_input_two = input('What letter do you want ? Enter c for consonants, v for vowels and t for random text  ')\n",
    "\n",
    "\n",
    "user_input_three = input('What letter do you want ? Enter c for consonants, v for vowels and t for random text  ')\n",
    "\n",
    "\n",
    "def text_gen():\n",
    "\tif user_input_one == 'c':\n",
    "\t\ttext_gen_one = random.choice(consonants)\n",
    "\telif user_input_one == 'v':\n",
    "\t\ttext_gen_one = random.choice(vowels)\n",
    "\telif user_input_one == 't':\n",
    "\t\ttext_gen_one = random.choice(text)\n",
    "\n",
    "\tif user_input_two == 'c':\n",
    "\t\ttext_gen_two = random.choice(consonants)\n",
    "\telif user_input_two == 'v':\n",
    "\t\ttext_gen_two = random.choice(vowels)\n",
    "\telif user_input_two == 't':\n",
    "\t\ttext_gen_two = random.choice(text)\n",
    "\n",
    "\tif user_input_three == 'c':\n",
    "\t\ttext_gen_three = random.choice(consonants)\n",
    "\telif user_input_three == 'v':\n",
    "\t\ttext_gen_three = random.choice(vowels)\n",
    "\telif user_input_three == 't':\n",
    "\t\ttext_gen_three = random.choice(text)\n",
    "\n",
    "\treturn text_gen_one + text_gen_two + text_gen_three\n",
    "\n",
    "for i in range(20):\n",
    "\tprint(text_gen())\n",
    "\n"
   ]
  },
  {
   "cell_type": "code",
   "execution_count": null,
   "metadata": {
    "collapsed": true
   },
   "outputs": [],
   "source": []
  }
 ],
 "metadata": {
  "kernelspec": {
   "display_name": "Python 3",
   "language": "python",
   "name": "python3"
  },
  "language_info": {
   "codemirror_mode": {
    "name": "ipython",
    "version": 3
   },
   "file_extension": ".py",
   "mimetype": "text/x-python",
   "name": "python",
   "nbconvert_exporter": "python",
   "pygments_lexer": "ipython3",
   "version": "3.5.3"
  }
 },
 "nbformat": 4,
 "nbformat_minor": 2
}
